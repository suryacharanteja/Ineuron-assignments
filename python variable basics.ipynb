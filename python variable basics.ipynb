{
 "cells": [
  {
   "cell_type": "markdown",
   "id": "a0eb7ecd",
   "metadata": {},
   "source": [
    "# Hare Krishna\n"
   ]
  },
  {
   "cell_type": "code",
   "execution_count": 3,
   "id": "901890f6",
   "metadata": {},
   "outputs": [
    {
     "data": {
      "text/plain": [
       "'hare krishna'"
      ]
     },
     "execution_count": 3,
     "metadata": {},
     "output_type": "execute_result"
    }
   ],
   "source": [
    "'hare krishna'"
   ]
  },
  {
   "cell_type": "code",
   "execution_count": 4,
   "id": "1e0c2231",
   "metadata": {},
   "outputs": [
    {
     "data": {
      "text/plain": [
       "'Krishnarpanam'"
      ]
     },
     "execution_count": 4,
     "metadata": {},
     "output_type": "execute_result"
    }
   ],
   "source": [
    "'Krishnarpanam'"
   ]
  },
  {
   "cell_type": "code",
   "execution_count": 5,
   "id": "d5ff7916",
   "metadata": {},
   "outputs": [
    {
     "data": {
      "text/plain": [
       "2"
      ]
     },
     "execution_count": 5,
     "metadata": {},
     "output_type": "execute_result"
    }
   ],
   "source": [
    "1+1\n",
    "\n"
   ]
  },
  {
   "cell_type": "code",
   "execution_count": null,
   "id": "f37f3b00",
   "metadata": {},
   "outputs": [],
   "source": []
  }
 ],
 "metadata": {
  "kernelspec": {
   "display_name": "Python 3 (ipykernel)",
   "language": "python",
   "name": "python3"
  },
  "language_info": {
   "codemirror_mode": {
    "name": "ipython",
    "version": 3
   },
   "file_extension": ".py",
   "mimetype": "text/x-python",
   "name": "python",
   "nbconvert_exporter": "python",
   "pygments_lexer": "ipython3",
   "version": "3.10.2"
  }
 },
 "nbformat": 4,
 "nbformat_minor": 5
}
